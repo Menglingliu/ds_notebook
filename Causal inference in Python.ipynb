{
 "cells": [
  {
   "cell_type": "markdown",
   "metadata": {},
   "source": [
    "# Causal inference"
   ]
  },
  {
   "cell_type": "markdown",
   "metadata": {},
   "source": [
    "## Propensity score matching"
   ]
  },
  {
   "cell_type": "markdown",
   "metadata": {},
   "source": [
    "#### Problem statement:\n",
    "Groupon deals have minimal requirement i.e. deal only works when there are at least 100 committed buyers. <br> Control: deals without the minimal requirement; Treatment: deals with minimmal requirement <br> We want to know whether having minimal requirement affect the deal outcomes, such as revenue, quantity sold, and Facebook likes received."
   ]
  },
  {
   "cell_type": "code",
   "execution_count": 2,
   "metadata": {},
   "outputs": [],
   "source": [
    "# load packages\n",
    "import numpy as np\n",
    "import pandas as pd\n",
    "import matplotlib.pyplot as plt\n",
    "import seaborn as sns\n",
    "import math\n",
    "sns.set()  # set the style"
   ]
  },
  {
   "cell_type": "code",
   "execution_count": 3,
   "metadata": {},
   "outputs": [
    {
     "data": {
      "text/html": [
       "<div>\n",
       "<style scoped>\n",
       "    .dataframe tbody tr th:only-of-type {\n",
       "        vertical-align: middle;\n",
       "    }\n",
       "\n",
       "    .dataframe tbody tr th {\n",
       "        vertical-align: top;\n",
       "    }\n",
       "\n",
       "    .dataframe thead th {\n",
       "        text-align: right;\n",
       "    }\n",
       "</style>\n",
       "<table border=\"1\" class=\"dataframe\">\n",
       "  <thead>\n",
       "    <tr style=\"text-align: right;\">\n",
       "      <th></th>\n",
       "      <th>deal_id</th>\n",
       "      <th>start_date</th>\n",
       "      <th>min_req</th>\n",
       "      <th>treatment</th>\n",
       "      <th>prom_length</th>\n",
       "      <th>price</th>\n",
       "      <th>discount_pct</th>\n",
       "      <th>coupon_duration</th>\n",
       "      <th>featured</th>\n",
       "      <th>limited_supply</th>\n",
       "      <th>fb_likes</th>\n",
       "      <th>quantity_sold</th>\n",
       "      <th>revenue</th>\n",
       "    </tr>\n",
       "  </thead>\n",
       "  <tbody>\n",
       "    <tr>\n",
       "      <th>0</th>\n",
       "      <td>heli-flights</td>\n",
       "      <td>9/23/2011</td>\n",
       "      <td>10</td>\n",
       "      <td>1</td>\n",
       "      <td>4</td>\n",
       "      <td>99</td>\n",
       "      <td>51</td>\n",
       "      <td>185</td>\n",
       "      <td>1</td>\n",
       "      <td>1</td>\n",
       "      <td>290</td>\n",
       "      <td>540</td>\n",
       "      <td>53460</td>\n",
       "    </tr>\n",
       "    <tr>\n",
       "      <th>1</th>\n",
       "      <td>gl-champion-series-tennis-electric-factory</td>\n",
       "      <td>9/23/2011</td>\n",
       "      <td>20</td>\n",
       "      <td>1</td>\n",
       "      <td>2</td>\n",
       "      <td>95</td>\n",
       "      <td>41</td>\n",
       "      <td>9</td>\n",
       "      <td>0</td>\n",
       "      <td>1</td>\n",
       "      <td>43</td>\n",
       "      <td>190</td>\n",
       "      <td>18050</td>\n",
       "    </tr>\n",
       "    <tr>\n",
       "      <th>2</th>\n",
       "      <td>realm-of-terror-horror-experience</td>\n",
       "      <td>9/23/2011</td>\n",
       "      <td>50</td>\n",
       "      <td>1</td>\n",
       "      <td>3</td>\n",
       "      <td>25</td>\n",
       "      <td>50</td>\n",
       "      <td>38</td>\n",
       "      <td>0</td>\n",
       "      <td>1</td>\n",
       "      <td>208</td>\n",
       "      <td>380</td>\n",
       "      <td>9500</td>\n",
       "    </tr>\n",
       "    <tr>\n",
       "      <th>3</th>\n",
       "      <td>newport-gourmet</td>\n",
       "      <td>9/23/2011</td>\n",
       "      <td>15</td>\n",
       "      <td>1</td>\n",
       "      <td>3</td>\n",
       "      <td>50</td>\n",
       "      <td>50</td>\n",
       "      <td>369</td>\n",
       "      <td>0</td>\n",
       "      <td>1</td>\n",
       "      <td>16</td>\n",
       "      <td>90</td>\n",
       "      <td>4500</td>\n",
       "    </tr>\n",
       "    <tr>\n",
       "      <th>4</th>\n",
       "      <td>the-clayroom</td>\n",
       "      <td>9/23/2011</td>\n",
       "      <td>20</td>\n",
       "      <td>1</td>\n",
       "      <td>4</td>\n",
       "      <td>25</td>\n",
       "      <td>52</td>\n",
       "      <td>185</td>\n",
       "      <td>0</td>\n",
       "      <td>1</td>\n",
       "      <td>85</td>\n",
       "      <td>580</td>\n",
       "      <td>14500</td>\n",
       "    </tr>\n",
       "  </tbody>\n",
       "</table>\n",
       "</div>"
      ],
      "text/plain": [
       "                                      deal_id start_date  min_req  treatment  \\\n",
       "0                                heli-flights  9/23/2011       10          1   \n",
       "1  gl-champion-series-tennis-electric-factory  9/23/2011       20          1   \n",
       "2           realm-of-terror-horror-experience  9/23/2011       50          1   \n",
       "3                             newport-gourmet  9/23/2011       15          1   \n",
       "4                                the-clayroom  9/23/2011       20          1   \n",
       "\n",
       "   prom_length  price  discount_pct  coupon_duration  featured  \\\n",
       "0            4     99            51              185         1   \n",
       "1            2     95            41                9         0   \n",
       "2            3     25            50               38         0   \n",
       "3            3     50            50              369         0   \n",
       "4            4     25            52              185         0   \n",
       "\n",
       "   limited_supply  fb_likes  quantity_sold  revenue  \n",
       "0               1       290            540    53460  \n",
       "1               1        43            190    18050  \n",
       "2               1       208            380     9500  \n",
       "3               1        16             90     4500  \n",
       "4               1        85            580    14500  "
      ]
     },
     "execution_count": 3,
     "metadata": {},
     "output_type": "execute_result"
    }
   ],
   "source": [
    "df = pd.read_csv('groupon.csv')\n",
    "df.head()"
   ]
  },
  {
   "cell_type": "code",
   "execution_count": 4,
   "metadata": {},
   "outputs": [
    {
     "name": "stdout",
     "output_type": "stream",
     "text": [
      "<class 'pandas.core.frame.DataFrame'>\n",
      "RangeIndex: 710 entries, 0 to 709\n",
      "Data columns (total 13 columns):\n",
      " #   Column           Non-Null Count  Dtype \n",
      "---  ------           --------------  ----- \n",
      " 0   deal_id          710 non-null    object\n",
      " 1   start_date       710 non-null    object\n",
      " 2   min_req          710 non-null    int64 \n",
      " 3   treatment        710 non-null    int64 \n",
      " 4   prom_length      710 non-null    int64 \n",
      " 5   price            710 non-null    int64 \n",
      " 6   discount_pct     710 non-null    int64 \n",
      " 7   coupon_duration  710 non-null    int64 \n",
      " 8   featured         710 non-null    int64 \n",
      " 9   limited_supply   710 non-null    int64 \n",
      " 10  fb_likes         710 non-null    int64 \n",
      " 11  quantity_sold    710 non-null    int64 \n",
      " 12  revenue          710 non-null    int64 \n",
      "dtypes: int64(11), object(2)\n",
      "memory usage: 72.2+ KB\n"
     ]
    }
   ],
   "source": [
    "df.info()"
   ]
  },
  {
   "cell_type": "code",
   "execution_count": 5,
   "metadata": {},
   "outputs": [
    {
     "data": {
      "text/html": [
       "<div>\n",
       "<style scoped>\n",
       "    .dataframe tbody tr th:only-of-type {\n",
       "        vertical-align: middle;\n",
       "    }\n",
       "\n",
       "    .dataframe tbody tr th {\n",
       "        vertical-align: top;\n",
       "    }\n",
       "\n",
       "    .dataframe thead th {\n",
       "        text-align: right;\n",
       "    }\n",
       "</style>\n",
       "<table border=\"1\" class=\"dataframe\">\n",
       "  <thead>\n",
       "    <tr style=\"text-align: right;\">\n",
       "      <th></th>\n",
       "      <th>min_req</th>\n",
       "      <th>prom_length</th>\n",
       "      <th>price</th>\n",
       "      <th>discount_pct</th>\n",
       "      <th>coupon_duration</th>\n",
       "      <th>featured</th>\n",
       "      <th>limited_supply</th>\n",
       "      <th>fb_likes</th>\n",
       "      <th>quantity_sold</th>\n",
       "      <th>revenue</th>\n",
       "    </tr>\n",
       "    <tr>\n",
       "      <th>treatment</th>\n",
       "      <th></th>\n",
       "      <th></th>\n",
       "      <th></th>\n",
       "      <th></th>\n",
       "      <th></th>\n",
       "      <th></th>\n",
       "      <th></th>\n",
       "      <th></th>\n",
       "      <th></th>\n",
       "      <th></th>\n",
       "    </tr>\n",
       "  </thead>\n",
       "  <tbody>\n",
       "    <tr>\n",
       "      <th>0</th>\n",
       "      <td>1.00000</td>\n",
       "      <td>3.809717</td>\n",
       "      <td>37.870445</td>\n",
       "      <td>52.973684</td>\n",
       "      <td>95.941296</td>\n",
       "      <td>0.105263</td>\n",
       "      <td>0.852227</td>\n",
       "      <td>77.941296</td>\n",
       "      <td>333.002024</td>\n",
       "      <td>9720.987854</td>\n",
       "    </tr>\n",
       "    <tr>\n",
       "      <th>1</th>\n",
       "      <td>26.50463</td>\n",
       "      <td>3.379630</td>\n",
       "      <td>29.421296</td>\n",
       "      <td>53.263889</td>\n",
       "      <td>131.842593</td>\n",
       "      <td>0.143519</td>\n",
       "      <td>0.777778</td>\n",
       "      <td>113.203704</td>\n",
       "      <td>509.351852</td>\n",
       "      <td>12750.694444</td>\n",
       "    </tr>\n",
       "  </tbody>\n",
       "</table>\n",
       "</div>"
      ],
      "text/plain": [
       "            min_req  prom_length      price  discount_pct  coupon_duration  \\\n",
       "treatment                                                                    \n",
       "0           1.00000     3.809717  37.870445     52.973684        95.941296   \n",
       "1          26.50463     3.379630  29.421296     53.263889       131.842593   \n",
       "\n",
       "           featured  limited_supply    fb_likes  quantity_sold       revenue  \n",
       "treatment                                                                     \n",
       "0          0.105263        0.852227   77.941296     333.002024   9720.987854  \n",
       "1          0.143519        0.777778  113.203704     509.351852  12750.694444  "
      ]
     },
     "execution_count": 5,
     "metadata": {},
     "output_type": "execute_result"
    }
   ],
   "source": [
    "df.groupby('treatment').mean()"
   ]
  },
  {
   "cell_type": "code",
   "execution_count": 6,
   "metadata": {},
   "outputs": [],
   "source": [
    "# t-test before PSM\n",
    "# separate control and treatment for t-test\n",
    "df_control = df[df.treatment==0]\n",
    "df_treatment = df[df.treatment==1]"
   ]
  },
  {
   "cell_type": "code",
   "execution_count": 7,
   "metadata": {},
   "outputs": [
    {
     "name": "stdout",
     "output_type": "stream",
     "text": [
      "9720.987854251012 12750.694444444445\n",
      "p=0.040\n",
      "different distributions/different group mean (reject H0)\n"
     ]
    }
   ],
   "source": [
    "# student's t-test for revenue (dependent variable)\n",
    "from scipy.stats import ttest_ind\n",
    "\n",
    "print(df_control.revenue.mean(), df_treatment.revenue.mean())\n",
    "\n",
    "# compare samples\n",
    "_, p = ttest_ind(df_control.revenue, df_treatment.revenue)\n",
    "print(f'p={p:.3f}')\n",
    "\n",
    "# interpret\n",
    "alpha = 0.05  # significance level\n",
    "if p > alpha:\n",
    "    print('same distributions/same group mean (fail to reject H0 - we do not have enough evidence to reject H0)')\n",
    "else:\n",
    "    print('different distributions/different group mean (reject H0)')"
   ]
  },
  {
   "cell_type": "code",
   "execution_count": 8,
   "metadata": {},
   "outputs": [
    {
     "name": "stdout",
     "output_type": "stream",
     "text": [
      "77.9412955465587 113.20370370370371\n",
      "p=0.004\n",
      "different distributions/different group mean (reject H0)\n"
     ]
    }
   ],
   "source": [
    "# student's t-test for fb_likes (dependent variable)\n",
    "from scipy.stats import ttest_ind\n",
    "\n",
    "print(df_control.fb_likes.mean(), df_treatment.fb_likes.mean())\n",
    "\n",
    "# compare samples\n",
    "_, p = ttest_ind(df_control.fb_likes, df_treatment.fb_likes)\n",
    "print(f'p={p:.3f}')\n",
    "\n",
    "# interpret\n",
    "alpha = 0.05  # significance level\n",
    "if p > alpha:\n",
    "    print('same distributions/same group mean (fail to reject H0 - we do not have enough evidence to reject H0)')\n",
    "else:\n",
    "    print('different distributions/different group mean (reject H0)')"
   ]
  },
  {
   "cell_type": "code",
   "execution_count": 9,
   "metadata": {},
   "outputs": [
    {
     "data": {
      "text/html": [
       "<div>\n",
       "<style scoped>\n",
       "    .dataframe tbody tr th:only-of-type {\n",
       "        vertical-align: middle;\n",
       "    }\n",
       "\n",
       "    .dataframe tbody tr th {\n",
       "        vertical-align: top;\n",
       "    }\n",
       "\n",
       "    .dataframe thead th {\n",
       "        text-align: right;\n",
       "    }\n",
       "</style>\n",
       "<table border=\"1\" class=\"dataframe\">\n",
       "  <thead>\n",
       "    <tr style=\"text-align: right;\">\n",
       "      <th></th>\n",
       "      <th>prom_length</th>\n",
       "      <th>price</th>\n",
       "      <th>discount_pct</th>\n",
       "      <th>coupon_duration</th>\n",
       "      <th>featured</th>\n",
       "      <th>limited_supply</th>\n",
       "    </tr>\n",
       "  </thead>\n",
       "  <tbody>\n",
       "    <tr>\n",
       "      <th>0</th>\n",
       "      <td>4</td>\n",
       "      <td>99</td>\n",
       "      <td>51</td>\n",
       "      <td>185</td>\n",
       "      <td>1</td>\n",
       "      <td>1</td>\n",
       "    </tr>\n",
       "    <tr>\n",
       "      <th>1</th>\n",
       "      <td>2</td>\n",
       "      <td>95</td>\n",
       "      <td>41</td>\n",
       "      <td>9</td>\n",
       "      <td>0</td>\n",
       "      <td>1</td>\n",
       "    </tr>\n",
       "    <tr>\n",
       "      <th>2</th>\n",
       "      <td>3</td>\n",
       "      <td>25</td>\n",
       "      <td>50</td>\n",
       "      <td>38</td>\n",
       "      <td>0</td>\n",
       "      <td>1</td>\n",
       "    </tr>\n",
       "    <tr>\n",
       "      <th>3</th>\n",
       "      <td>3</td>\n",
       "      <td>50</td>\n",
       "      <td>50</td>\n",
       "      <td>369</td>\n",
       "      <td>0</td>\n",
       "      <td>1</td>\n",
       "    </tr>\n",
       "    <tr>\n",
       "      <th>4</th>\n",
       "      <td>4</td>\n",
       "      <td>25</td>\n",
       "      <td>52</td>\n",
       "      <td>185</td>\n",
       "      <td>0</td>\n",
       "      <td>1</td>\n",
       "    </tr>\n",
       "  </tbody>\n",
       "</table>\n",
       "</div>"
      ],
      "text/plain": [
       "   prom_length  price  discount_pct  coupon_duration  featured  limited_supply\n",
       "0            4     99            51              185         1               1\n",
       "1            2     95            41                9         0               1\n",
       "2            3     25            50               38         0               1\n",
       "3            3     50            50              369         0               1\n",
       "4            4     25            52              185         0               1"
      ]
     },
     "execution_count": 9,
     "metadata": {},
     "output_type": "execute_result"
    }
   ],
   "source": [
    "# PSM: choose features for propensity score calculation\n",
    "X = df[['prom_length', 'price', 'discount_pct', 'coupon_duration', 'featured', 'limited_supply']]\n",
    "y = df['treatment']\n",
    "X.head()"
   ]
  },
  {
   "cell_type": "code",
   "execution_count": 10,
   "metadata": {},
   "outputs": [
    {
     "data": {
      "text/html": [
       "<div>\n",
       "<style scoped>\n",
       "    .dataframe tbody tr th:only-of-type {\n",
       "        vertical-align: middle;\n",
       "    }\n",
       "\n",
       "    .dataframe tbody tr th {\n",
       "        vertical-align: top;\n",
       "    }\n",
       "\n",
       "    .dataframe thead th {\n",
       "        text-align: right;\n",
       "    }\n",
       "</style>\n",
       "<table border=\"1\" class=\"dataframe\">\n",
       "  <thead>\n",
       "    <tr style=\"text-align: right;\">\n",
       "      <th></th>\n",
       "      <th>feature</th>\n",
       "      <th>coeff</th>\n",
       "    </tr>\n",
       "  </thead>\n",
       "  <tbody>\n",
       "    <tr>\n",
       "      <th>0</th>\n",
       "      <td>prom_length</td>\n",
       "      <td>-0.328371</td>\n",
       "    </tr>\n",
       "    <tr>\n",
       "      <th>1</th>\n",
       "      <td>price</td>\n",
       "      <td>-0.008597</td>\n",
       "    </tr>\n",
       "    <tr>\n",
       "      <th>2</th>\n",
       "      <td>discount_pct</td>\n",
       "      <td>-0.007940</td>\n",
       "    </tr>\n",
       "    <tr>\n",
       "      <th>3</th>\n",
       "      <td>coupon_duration</td>\n",
       "      <td>0.003520</td>\n",
       "    </tr>\n",
       "    <tr>\n",
       "      <th>4</th>\n",
       "      <td>featured</td>\n",
       "      <td>0.307996</td>\n",
       "    </tr>\n",
       "    <tr>\n",
       "      <th>5</th>\n",
       "      <td>limited_supply</td>\n",
       "      <td>-0.366498</td>\n",
       "    </tr>\n",
       "  </tbody>\n",
       "</table>\n",
       "</div>"
      ],
      "text/plain": [
       "           feature     coeff\n",
       "0      prom_length -0.328371\n",
       "1            price -0.008597\n",
       "2     discount_pct -0.007940\n",
       "3  coupon_duration  0.003520\n",
       "4         featured  0.307996\n",
       "5   limited_supply -0.366498"
      ]
     },
     "execution_count": 10,
     "metadata": {},
     "output_type": "execute_result"
    }
   ],
   "source": [
    "# fitting the model\n",
    "from sklearn.linear_model import LogisticRegression\n",
    "# Initialize the model\n",
    "model = LogisticRegression()\n",
    "# Train the model\n",
    "result = model.fit(X, y)\n",
    "# Make prediction\n",
    "pred_binary = model.predict(X) # binary prediction\n",
    "pred_prob = model.predict_proba(X) # corresponding probabilities for binary prediction 0 and 1\n",
    "\n",
    "# Print coefficients\n",
    "coefficients = model.coef_\n",
    "pd.DataFrame({'column': X.columns, 'coeff': coefficients.ravel()}).rename(columns = {'column': 'feature'})\n",
    "# for i, feature in enumerate(X.columns):\n",
    "#     print(f\"Feature: {feature}, Coefficient: {coefficients[0][i]}\")"
   ]
  },
  {
   "cell_type": "code",
   "execution_count": 11,
   "metadata": {},
   "outputs": [
    {
     "data": {
      "text/html": [
       "<div>\n",
       "<style scoped>\n",
       "    .dataframe tbody tr th:only-of-type {\n",
       "        vertical-align: middle;\n",
       "    }\n",
       "\n",
       "    .dataframe tbody tr th {\n",
       "        vertical-align: top;\n",
       "    }\n",
       "\n",
       "    .dataframe thead th {\n",
       "        text-align: right;\n",
       "    }\n",
       "</style>\n",
       "<table border=\"1\" class=\"dataframe\">\n",
       "  <thead>\n",
       "    <tr style=\"text-align: right;\">\n",
       "      <th></th>\n",
       "      <th>deal_id</th>\n",
       "      <th>start_date</th>\n",
       "      <th>min_req</th>\n",
       "      <th>treatment</th>\n",
       "      <th>prom_length</th>\n",
       "      <th>price</th>\n",
       "      <th>discount_pct</th>\n",
       "      <th>coupon_duration</th>\n",
       "      <th>featured</th>\n",
       "      <th>limited_supply</th>\n",
       "      <th>fb_likes</th>\n",
       "      <th>quantity_sold</th>\n",
       "      <th>revenue</th>\n",
       "      <th>ps</th>\n",
       "    </tr>\n",
       "  </thead>\n",
       "  <tbody>\n",
       "    <tr>\n",
       "      <th>0</th>\n",
       "      <td>heli-flights</td>\n",
       "      <td>9/23/2011</td>\n",
       "      <td>10</td>\n",
       "      <td>1</td>\n",
       "      <td>4</td>\n",
       "      <td>99</td>\n",
       "      <td>51</td>\n",
       "      <td>185</td>\n",
       "      <td>1</td>\n",
       "      <td>1</td>\n",
       "      <td>290</td>\n",
       "      <td>540</td>\n",
       "      <td>53460</td>\n",
       "      <td>0.259193</td>\n",
       "    </tr>\n",
       "    <tr>\n",
       "      <th>1</th>\n",
       "      <td>gl-champion-series-tennis-electric-factory</td>\n",
       "      <td>9/23/2011</td>\n",
       "      <td>20</td>\n",
       "      <td>1</td>\n",
       "      <td>2</td>\n",
       "      <td>95</td>\n",
       "      <td>41</td>\n",
       "      <td>9</td>\n",
       "      <td>0</td>\n",
       "      <td>1</td>\n",
       "      <td>43</td>\n",
       "      <td>190</td>\n",
       "      <td>18050</td>\n",
       "      <td>0.230198</td>\n",
       "    </tr>\n",
       "    <tr>\n",
       "      <th>2</th>\n",
       "      <td>realm-of-terror-horror-experience</td>\n",
       "      <td>9/23/2011</td>\n",
       "      <td>50</td>\n",
       "      <td>1</td>\n",
       "      <td>3</td>\n",
       "      <td>25</td>\n",
       "      <td>50</td>\n",
       "      <td>38</td>\n",
       "      <td>0</td>\n",
       "      <td>1</td>\n",
       "      <td>208</td>\n",
       "      <td>380</td>\n",
       "      <td>9500</td>\n",
       "      <td>0.288405</td>\n",
       "    </tr>\n",
       "    <tr>\n",
       "      <th>3</th>\n",
       "      <td>newport-gourmet</td>\n",
       "      <td>9/23/2011</td>\n",
       "      <td>15</td>\n",
       "      <td>1</td>\n",
       "      <td>3</td>\n",
       "      <td>50</td>\n",
       "      <td>50</td>\n",
       "      <td>369</td>\n",
       "      <td>0</td>\n",
       "      <td>1</td>\n",
       "      <td>16</td>\n",
       "      <td>90</td>\n",
       "      <td>4500</td>\n",
       "      <td>0.511781</td>\n",
       "    </tr>\n",
       "    <tr>\n",
       "      <th>4</th>\n",
       "      <td>the-clayroom</td>\n",
       "      <td>9/23/2011</td>\n",
       "      <td>20</td>\n",
       "      <td>1</td>\n",
       "      <td>4</td>\n",
       "      <td>25</td>\n",
       "      <td>52</td>\n",
       "      <td>185</td>\n",
       "      <td>0</td>\n",
       "      <td>1</td>\n",
       "      <td>85</td>\n",
       "      <td>580</td>\n",
       "      <td>14500</td>\n",
       "      <td>0.325212</td>\n",
       "    </tr>\n",
       "  </tbody>\n",
       "</table>\n",
       "</div>"
      ],
      "text/plain": [
       "                                      deal_id start_date  min_req  treatment  \\\n",
       "0                                heli-flights  9/23/2011       10          1   \n",
       "1  gl-champion-series-tennis-electric-factory  9/23/2011       20          1   \n",
       "2           realm-of-terror-horror-experience  9/23/2011       50          1   \n",
       "3                             newport-gourmet  9/23/2011       15          1   \n",
       "4                                the-clayroom  9/23/2011       20          1   \n",
       "\n",
       "   prom_length  price  discount_pct  coupon_duration  featured  \\\n",
       "0            4     99            51              185         1   \n",
       "1            2     95            41                9         0   \n",
       "2            3     25            50               38         0   \n",
       "3            3     50            50              369         0   \n",
       "4            4     25            52              185         0   \n",
       "\n",
       "   limited_supply  fb_likes  quantity_sold  revenue        ps  \n",
       "0               1       290            540    53460  0.259193  \n",
       "1               1        43            190    18050  0.230198  \n",
       "2               1       208            380     9500  0.288405  \n",
       "3               1        16             90     4500  0.511781  \n",
       "4               1        85            580    14500  0.325212  "
      ]
     },
     "execution_count": 11,
     "metadata": {},
     "output_type": "execute_result"
    }
   ],
   "source": [
    "# propensity score (ps) is the probability of being 1\n",
    "df['ps'] = pred_prob[:, 1]\n",
    "df.head()"
   ]
  },
  {
   "cell_type": "code",
   "execution_count": 12,
   "metadata": {},
   "outputs": [
    {
     "data": {
      "text/plain": [
       "<matplotlib.axes._subplots.AxesSubplot at 0x7fb11fdda490>"
      ]
     },
     "execution_count": 12,
     "metadata": {},
     "output_type": "execute_result"
    },
    {
     "data": {
      "image/png": "[encoded data removed]",
      "text/plain": [
       "<Figure size 432x288 with 1 Axes>"
      ]
     },
     "metadata": {},
     "output_type": "display_data"
    }
   ],
   "source": [
    "# check overlap of ps for control and treatmment using histogram\n",
    "sns.histplot(data = df, x = 'ps', hue = 'treatment')\n",
    "# The figure above shows major overlaps of the propensity scores in the control and treatment group, which is a good foundation for the matching, \n",
    "# i.e., if there are no or few overlaps, it’s impossible/difficult to find enough matches."
   ]
  },
  {
   "cell_type": "code",
   "execution_count": 13,
   "metadata": {},
   "outputs": [],
   "source": [
    "# we should not include 'min_req' and 'start_date' in ps prediction as treatment is derived from min_req and start_date is highly correlated with min_req or revenue"
   ]
  },
  {
   "cell_type": "code",
   "execution_count": 14,
   "metadata": {},
   "outputs": [
    {
     "data": {
      "text/plain": [
       "<matplotlib.axes._subplots.AxesSubplot at 0x7fb11ff95350>"
      ]
     },
     "execution_count": 14,
     "metadata": {},
     "output_type": "execute_result"
    },
    {
     "data": {
      "image/png": "[encoded data removed]",
      "text/plain": [
       "<Figure size 432x288 with 1 Axes>"
      ]
     },
     "metadata": {},
     "output_type": "display_data"
    }
   ],
   "source": [
    "# adding 'min_req' here makes matching not working - because treatment is derived from min_req\n",
    "# there is no overlap and thus matching will not work\n",
    "X1 = df[['min_req', 'prom_length', 'price', 'discount_pct', 'coupon_duration', 'featured','limited_supply']]\n",
    "y = df['treatment']\n",
    "\n",
    "# use logistic regression to calculate the propensity scores\n",
    "lr1 = LogisticRegression(max_iter=1000)\n",
    "lr1.fit(X1, y)\n",
    "\n",
    "pred_prob1 = lr1.predict_proba(X1)  # probabilities for classes\n",
    "df['ps1'] = pred_prob1[:, 1]\n",
    "\n",
    "sns.histplot(data=df, x='ps1', hue='treatment')"
   ]
  },
  {
   "cell_type": "code",
   "execution_count": 15,
   "metadata": {},
   "outputs": [
    {
     "data": {
      "text/plain": [
       "<matplotlib.axes._subplots.AxesSubplot at 0x7fb1201c8c50>"
      ]
     },
     "execution_count": 15,
     "metadata": {},
     "output_type": "execute_result"
    },
    {
     "data": {
      "image/png": "[encoded data removed]",
      "text/plain": [
       "<Figure size 432x288 with 1 Axes>"
      ]
     },
     "metadata": {},
     "output_type": "display_data"
    }
   ],
   "source": [
    "# start date is highly correlated with min_req or revenue\n",
    "df.start_date = pd.to_datetime(df.start_date)\n",
    "fig, ax = plt.subplots(figsize=(6, 4))\n",
    "sns.scatterplot(data=df, x='start_date', y='revenue', hue='treatment')"
   ]
  },
  {
   "cell_type": "code",
   "execution_count": 16,
   "metadata": {},
   "outputs": [
    {
     "data": {
      "text/plain": [
       "<matplotlib.axes._subplots.AxesSubplot at 0x7fb120202c90>"
      ]
     },
     "execution_count": 16,
     "metadata": {},
     "output_type": "execute_result"
    },
    {
     "data": {
      "image/png": "[encoded data removed]",
      "text/plain": [
       "<Figure size 432x288 with 1 Axes>"
      ]
     },
     "metadata": {},
     "output_type": "display_data"
    }
   ],
   "source": [
    "# adding 'starting_date' here via a `recency` feature\n",
    "# there is only little overlap resulting in not enough matched observations\n",
    "\n",
    "last_date = df.start_date.max()\n",
    "df['recency'] = (last_date - df.start_date).dt.days\n",
    "\n",
    "X2 = df[['recency', 'prom_length', 'price', 'discount_pct', 'coupon_duration', 'featured','limited_supply']]\n",
    "y = df['treatment']\n",
    "\n",
    "# use logistic regression to calculate the propensity scores\n",
    "lr2 = LogisticRegression(max_iter=1000)\n",
    "lr2.fit(X2, y)\n",
    "\n",
    "pred_prob2 = lr2.predict_proba(X2)  # probabilities for classes\n",
    "df['ps2'] = pred_prob2[:, 1]\n",
    "\n",
    "sns.histplot(data=df, x='ps2', hue='treatment')"
   ]
  },
  {
   "cell_type": "code",
   "execution_count": 17,
   "metadata": {},
   "outputs": [],
   "source": [
    "# Propensity score matching"
   ]
  },
  {
   "cell_type": "code",
   "execution_count": 18,
   "metadata": {},
   "outputs": [
    {
     "name": "stdout",
     "output_type": "stream",
     "text": [
      "caliper (radius) is: 0.0304\n"
     ]
    },
    {
     "data": {
      "text/plain": [
       "NearestNeighbors(algorithm='auto', leaf_size=30, metric='minkowski',\n",
       "                 metric_params=None, n_jobs=None, n_neighbors=10, p=2,\n",
       "                 radius=0.03037912483409167)"
      ]
     },
     "execution_count": 18,
     "metadata": {},
     "output_type": "execute_result"
    }
   ],
   "source": [
    "from sklearn.neighbors import NearestNeighbors\n",
    "\n",
    "# use 25% of standard deviation of the propensity score as the caliper/radius\n",
    "# relax caliper and increase k can provide more matches\n",
    "caliper = np.std(df.ps) * 0.25\n",
    "print(f'caliper (radius) is: {caliper:.4f}')\n",
    "\n",
    "# setup knn: get k closest neighbors for each observations\n",
    "n_neighbors = 10\n",
    "knn = NearestNeighbors(n_neighbors=n_neighbors, radius=caliper)\n",
    "ps = df[['ps']]  # double brackets as a dataframe\n",
    "knn.fit(ps)"
   ]
  },
  {
   "cell_type": "code",
   "execution_count": 19,
   "metadata": {},
   "outputs": [
    {
     "name": "stdout",
     "output_type": "stream",
     "text": [
      "(710, 10)\n",
      "[0.         0.00010819 0.00040688 0.0007821  0.00115812 0.00135198\n",
      " 0.00135198 0.00164948 0.00166937 0.00203865]\n",
      "[  0 348 388 415 624 150 494 463 372 345]\n"
     ]
    }
   ],
   "source": [
    "# distances and indexes\n",
    "distances, neighbor_indexes = knn.kneighbors(ps)\n",
    "print(neighbor_indexes.shape)\n",
    "\n",
    "# the 10 closest points to the first point\n",
    "print(distances[0])\n",
    "print(neighbor_indexes[0])"
   ]
  },
  {
   "cell_type": "code",
   "execution_count": 20,
   "metadata": {},
   "outputs": [],
   "source": [
    "# for each point in treatment, we find a matching point in control without replacement\n",
    "# note the 10 neighbors may include both points in treatment and control\n",
    "\n",
    "matched_control = []  # keep track of the matched observations in control\n",
    "\n",
    "for current_index, row in df.iterrows():  # iterate over the dataframe\n",
    "    if row.treatment == 0:  # the current row is in the control group\n",
    "        df.loc[current_index, 'matched'] = np.nan  # set matched to nan\n",
    "    else: \n",
    "        for idx in neighbor_indexes[current_index, :]: # for each row in treatment, find the k neighbors\n",
    "            # make sure the current row is not the idx - don't match to itself and the neighbor is in the control \n",
    "            if (current_index != idx) and (df.loc[idx].treatment == 0):\n",
    "                if idx not in matched_control:  # this control has not been matched yet\n",
    "                    df.loc[current_index, 'matched'] = idx  # record the matching\n",
    "                    matched_control.append(idx)  # add the matched to the list\n",
    "                    break"
   ]
  },
  {
   "cell_type": "code",
   "execution_count": 21,
   "metadata": {},
   "outputs": [
    {
     "data": {
      "text/html": [
       "<div>\n",
       "<style scoped>\n",
       "    .dataframe tbody tr th:only-of-type {\n",
       "        vertical-align: middle;\n",
       "    }\n",
       "\n",
       "    .dataframe tbody tr th {\n",
       "        vertical-align: top;\n",
       "    }\n",
       "\n",
       "    .dataframe thead th {\n",
       "        text-align: right;\n",
       "    }\n",
       "</style>\n",
       "<table border=\"1\" class=\"dataframe\">\n",
       "  <thead>\n",
       "    <tr style=\"text-align: right;\">\n",
       "      <th></th>\n",
       "      <th>deal_id</th>\n",
       "      <th>start_date</th>\n",
       "      <th>min_req</th>\n",
       "      <th>treatment</th>\n",
       "      <th>prom_length</th>\n",
       "      <th>price</th>\n",
       "      <th>discount_pct</th>\n",
       "      <th>coupon_duration</th>\n",
       "      <th>featured</th>\n",
       "      <th>limited_supply</th>\n",
       "      <th>fb_likes</th>\n",
       "      <th>quantity_sold</th>\n",
       "      <th>revenue</th>\n",
       "      <th>ps</th>\n",
       "      <th>ps1</th>\n",
       "      <th>recency</th>\n",
       "      <th>ps2</th>\n",
       "      <th>matched</th>\n",
       "    </tr>\n",
       "  </thead>\n",
       "  <tbody>\n",
       "    <tr>\n",
       "      <th>0</th>\n",
       "      <td>heli-flights</td>\n",
       "      <td>2011-09-23</td>\n",
       "      <td>10</td>\n",
       "      <td>1</td>\n",
       "      <td>4</td>\n",
       "      <td>99</td>\n",
       "      <td>51</td>\n",
       "      <td>185</td>\n",
       "      <td>1</td>\n",
       "      <td>1</td>\n",
       "      <td>290</td>\n",
       "      <td>540</td>\n",
       "      <td>53460</td>\n",
       "      <td>0.259193</td>\n",
       "      <td>1.0</td>\n",
       "      <td>312</td>\n",
       "      <td>0.998459</td>\n",
       "      <td>348.0</td>\n",
       "    </tr>\n",
       "    <tr>\n",
       "      <th>1</th>\n",
       "      <td>gl-champion-series-tennis-electric-factory</td>\n",
       "      <td>2011-09-23</td>\n",
       "      <td>20</td>\n",
       "      <td>1</td>\n",
       "      <td>2</td>\n",
       "      <td>95</td>\n",
       "      <td>41</td>\n",
       "      <td>9</td>\n",
       "      <td>0</td>\n",
       "      <td>1</td>\n",
       "      <td>43</td>\n",
       "      <td>190</td>\n",
       "      <td>18050</td>\n",
       "      <td>0.230198</td>\n",
       "      <td>1.0</td>\n",
       "      <td>312</td>\n",
       "      <td>0.995757</td>\n",
       "      <td>403.0</td>\n",
       "    </tr>\n",
       "    <tr>\n",
       "      <th>2</th>\n",
       "      <td>realm-of-terror-horror-experience</td>\n",
       "      <td>2011-09-23</td>\n",
       "      <td>50</td>\n",
       "      <td>1</td>\n",
       "      <td>3</td>\n",
       "      <td>25</td>\n",
       "      <td>50</td>\n",
       "      <td>38</td>\n",
       "      <td>0</td>\n",
       "      <td>1</td>\n",
       "      <td>208</td>\n",
       "      <td>380</td>\n",
       "      <td>9500</td>\n",
       "      <td>0.288405</td>\n",
       "      <td>1.0</td>\n",
       "      <td>312</td>\n",
       "      <td>0.998066</td>\n",
       "      <td>512.0</td>\n",
       "    </tr>\n",
       "    <tr>\n",
       "      <th>3</th>\n",
       "      <td>newport-gourmet</td>\n",
       "      <td>2011-09-23</td>\n",
       "      <td>15</td>\n",
       "      <td>1</td>\n",
       "      <td>3</td>\n",
       "      <td>50</td>\n",
       "      <td>50</td>\n",
       "      <td>369</td>\n",
       "      <td>0</td>\n",
       "      <td>1</td>\n",
       "      <td>16</td>\n",
       "      <td>90</td>\n",
       "      <td>4500</td>\n",
       "      <td>0.511781</td>\n",
       "      <td>1.0</td>\n",
       "      <td>312</td>\n",
       "      <td>0.998164</td>\n",
       "      <td>679.0</td>\n",
       "    </tr>\n",
       "    <tr>\n",
       "      <th>4</th>\n",
       "      <td>the-clayroom</td>\n",
       "      <td>2011-09-23</td>\n",
       "      <td>20</td>\n",
       "      <td>1</td>\n",
       "      <td>4</td>\n",
       "      <td>25</td>\n",
       "      <td>52</td>\n",
       "      <td>185</td>\n",
       "      <td>0</td>\n",
       "      <td>1</td>\n",
       "      <td>85</td>\n",
       "      <td>580</td>\n",
       "      <td>14500</td>\n",
       "      <td>0.325212</td>\n",
       "      <td>1.0</td>\n",
       "      <td>312</td>\n",
       "      <td>0.998570</td>\n",
       "      <td>690.0</td>\n",
       "    </tr>\n",
       "  </tbody>\n",
       "</table>\n",
       "</div>"
      ],
      "text/plain": [
       "                                      deal_id start_date  min_req  treatment  \\\n",
       "0                                heli-flights 2011-09-23       10          1   \n",
       "1  gl-champion-series-tennis-electric-factory 2011-09-23       20          1   \n",
       "2           realm-of-terror-horror-experience 2011-09-23       50          1   \n",
       "3                             newport-gourmet 2011-09-23       15          1   \n",
       "4                                the-clayroom 2011-09-23       20          1   \n",
       "\n",
       "   prom_length  price  discount_pct  coupon_duration  featured  \\\n",
       "0            4     99            51              185         1   \n",
       "1            2     95            41                9         0   \n",
       "2            3     25            50               38         0   \n",
       "3            3     50            50              369         0   \n",
       "4            4     25            52              185         0   \n",
       "\n",
       "   limited_supply  fb_likes  quantity_sold  revenue        ps  ps1  recency  \\\n",
       "0               1       290            540    53460  0.259193  1.0      312   \n",
       "1               1        43            190    18050  0.230198  1.0      312   \n",
       "2               1       208            380     9500  0.288405  1.0      312   \n",
       "3               1        16             90     4500  0.511781  1.0      312   \n",
       "4               1        85            580    14500  0.325212  1.0      312   \n",
       "\n",
       "        ps2  matched  \n",
       "0  0.998459    348.0  \n",
       "1  0.995757    403.0  \n",
       "2  0.998066    512.0  \n",
       "3  0.998164    679.0  \n",
       "4  0.998570    690.0  "
      ]
     },
     "execution_count": 21,
     "metadata": {},
     "output_type": "execute_result"
    }
   ],
   "source": [
    "df.head()"
   ]
  },
  {
   "cell_type": "code",
   "execution_count": null,
   "metadata": {},
   "outputs": [],
   "source": [
    "# try to increase the number of neighbors and/or caliper to get more matches\n",
    "print('total observations in treatment:', len(df[df.treatment==1]))\n",
    "print('total matched observations in control:', len(matched_control))"
   ]
  },
  {
   "cell_type": "code",
   "execution_count": 22,
   "metadata": {},
   "outputs": [
    {
     "data": {
      "text/plain": [
       "1    185\n",
       "0    185\n",
       "Name: treatment, dtype: int64"
      ]
     },
     "execution_count": 22,
     "metadata": {},
     "output_type": "execute_result"
    }
   ],
   "source": [
    "# control have no match\n",
    "treatment_matched = df.dropna(subset=['matched'])  # drop not matched\n",
    "\n",
    "# matched control observation indexes\n",
    "control_matched_idx = treatment_matched.matched\n",
    "control_matched_idx = control_matched_idx.astype(int)  # change to int\n",
    "control_matched = df.loc[control_matched_idx, :]  # select matched control observations\n",
    "\n",
    "# combine the matched treatment and control\n",
    "df_matched = pd.concat([treatment_matched, control_matched])\n",
    "\n",
    "df_matched.treatment.value_counts()"
   ]
  },
  {
   "cell_type": "code",
   "execution_count": 23,
   "metadata": {},
   "outputs": [],
   "source": [
    "# matched control and treatment after propensity score matching\n",
    "df_matched_control = df_matched[df_matched.treatment==0]\n",
    "df_matched_treatment = df_matched[df_matched.treatment==1]"
   ]
  },
  {
   "cell_type": "code",
   "execution_count": 24,
   "metadata": {},
   "outputs": [
    {
     "name": "stdout",
     "output_type": "stream",
     "text": [
      "9146.783783783783 13275.405405405405\n",
      "p=0.051\n",
      "same distributions/same group mean (fail to reject H0 - we do not have enough evidence to reject H0)\n"
     ]
    }
   ],
   "source": [
    "# student's t-test for revenue (dependent variable) after matching\n",
    "# p value is not significant now\n",
    "from scipy.stats import ttest_ind\n",
    "print(df_matched_control.revenue.mean(), df_matched_treatment.revenue.mean())\n",
    "\n",
    "# compare samples\n",
    "_, p = ttest_ind(df_matched_control.revenue, df_matched_treatment.revenue)\n",
    "print(f'p={p:.3f}')\n",
    "\n",
    "# interpret\n",
    "alpha = 0.05  # significance level\n",
    "if p > alpha:\n",
    "    print('same distributions/same group mean (fail to reject H0 - we do not have enough evidence to reject H0)')\n",
    "else:\n",
    "    print('different distributions/different group mean (reject H0)')"
   ]
  },
  {
   "cell_type": "code",
   "execution_count": 25,
   "metadata": {},
   "outputs": [
    {
     "name": "stdout",
     "output_type": "stream",
     "text": [
      "68.0 115.75135135135135\n",
      "p=0.002\n",
      "different distributions/different group mean (reject H0)\n"
     ]
    }
   ],
   "source": [
    "# student's t-test for facebook likes(dependent variable) after matching\n",
    "# p value is smaller compared with before matching\n",
    "from scipy.stats import ttest_ind\n",
    "print(df_matched_control.fb_likes.mean(), df_matched_treatment.fb_likes.mean())\n",
    "\n",
    "# compare samples\n",
    "_, p = ttest_ind(df_matched_control.fb_likes, df_matched_treatment.fb_likes)\n",
    "print(f'p={p:.3f}')\n",
    "\n",
    "# interpret\n",
    "alpha = 0.05  # significance level\n",
    "if p > alpha:\n",
    "    print('same distributions/same group mean (fail to reject H0 - we do not have enough evidence to reject H0)')\n",
    "else:\n",
    "    print('different distributions/different group mean (reject H0)')"
   ]
  },
  {
   "cell_type": "code",
   "execution_count": 26,
   "metadata": {},
   "outputs": [],
   "source": [
    "# One way to see the matching effect is to show the mean difference of the features from control vs. treatment groups before and after the match - \n",
    "# we hope to decrease the differences via matching, i.e., the characteristics of the deals are more similar in both control and treatment groups after matching."
   ]
  },
  {
   "cell_type": "code",
   "execution_count": 27,
   "metadata": {},
   "outputs": [
    {
     "data": {
      "text/html": [
       "<div>\n",
       "<style scoped>\n",
       "    .dataframe tbody tr th:only-of-type {\n",
       "        vertical-align: middle;\n",
       "    }\n",
       "\n",
       "    .dataframe tbody tr th {\n",
       "        vertical-align: top;\n",
       "    }\n",
       "\n",
       "    .dataframe thead th {\n",
       "        text-align: right;\n",
       "    }\n",
       "</style>\n",
       "<table border=\"1\" class=\"dataframe\">\n",
       "  <thead>\n",
       "    <tr style=\"text-align: right;\">\n",
       "      <th></th>\n",
       "      <th>min_req</th>\n",
       "      <th>prom_length</th>\n",
       "      <th>price</th>\n",
       "      <th>discount_pct</th>\n",
       "      <th>coupon_duration</th>\n",
       "      <th>featured</th>\n",
       "      <th>limited_supply</th>\n",
       "      <th>fb_likes</th>\n",
       "      <th>quantity_sold</th>\n",
       "      <th>revenue</th>\n",
       "      <th>ps</th>\n",
       "      <th>ps1</th>\n",
       "      <th>recency</th>\n",
       "      <th>ps2</th>\n",
       "      <th>matched</th>\n",
       "    </tr>\n",
       "    <tr>\n",
       "      <th>treatment</th>\n",
       "      <th></th>\n",
       "      <th></th>\n",
       "      <th></th>\n",
       "      <th></th>\n",
       "      <th></th>\n",
       "      <th></th>\n",
       "      <th></th>\n",
       "      <th></th>\n",
       "      <th></th>\n",
       "      <th></th>\n",
       "      <th></th>\n",
       "      <th></th>\n",
       "      <th></th>\n",
       "      <th></th>\n",
       "      <th></th>\n",
       "    </tr>\n",
       "  </thead>\n",
       "  <tbody>\n",
       "    <tr>\n",
       "      <th>0</th>\n",
       "      <td>1.000000</td>\n",
       "      <td>3.508108</td>\n",
       "      <td>31.351351</td>\n",
       "      <td>52.183784</td>\n",
       "      <td>121.989189</td>\n",
       "      <td>0.151351</td>\n",
       "      <td>0.762162</td>\n",
       "      <td>68.000000</td>\n",
       "      <td>364.783784</td>\n",
       "      <td>9146.783784</td>\n",
       "      <td>0.337784</td>\n",
       "      <td>0.004993</td>\n",
       "      <td>98.702703</td>\n",
       "      <td>0.069864</td>\n",
       "      <td>NaN</td>\n",
       "    </tr>\n",
       "    <tr>\n",
       "      <th>1</th>\n",
       "      <td>26.940541</td>\n",
       "      <td>3.437838</td>\n",
       "      <td>31.221622</td>\n",
       "      <td>53.124324</td>\n",
       "      <td>117.329730</td>\n",
       "      <td>0.140541</td>\n",
       "      <td>0.794595</td>\n",
       "      <td>115.751351</td>\n",
       "      <td>489.513514</td>\n",
       "      <td>13275.405405</td>\n",
       "      <td>0.337754</td>\n",
       "      <td>0.990306</td>\n",
       "      <td>256.621622</td>\n",
       "      <td>0.871881</td>\n",
       "      <td>472.372973</td>\n",
       "    </tr>\n",
       "  </tbody>\n",
       "</table>\n",
       "</div>"
      ],
      "text/plain": [
       "             min_req  prom_length      price  discount_pct  coupon_duration  \\\n",
       "treatment                                                                     \n",
       "0           1.000000     3.508108  31.351351     52.183784       121.989189   \n",
       "1          26.940541     3.437838  31.221622     53.124324       117.329730   \n",
       "\n",
       "           featured  limited_supply    fb_likes  quantity_sold       revenue  \\\n",
       "treatment                                                                      \n",
       "0          0.151351        0.762162   68.000000     364.783784   9146.783784   \n",
       "1          0.140541        0.794595  115.751351     489.513514  13275.405405   \n",
       "\n",
       "                 ps       ps1     recency       ps2     matched  \n",
       "treatment                                                        \n",
       "0          0.337784  0.004993   98.702703  0.069864         NaN  \n",
       "1          0.337754  0.990306  256.621622  0.871881  472.372973  "
      ]
     },
     "execution_count": 27,
     "metadata": {},
     "output_type": "execute_result"
    }
   ],
   "source": [
    "df_matched.groupby('treatment').mean()"
   ]
  },
  {
   "cell_type": "code",
   "execution_count": 28,
   "metadata": {},
   "outputs": [
    {
     "data": {
      "text/html": [
       "<div>\n",
       "<style scoped>\n",
       "    .dataframe tbody tr th:only-of-type {\n",
       "        vertical-align: middle;\n",
       "    }\n",
       "\n",
       "    .dataframe tbody tr th {\n",
       "        vertical-align: top;\n",
       "    }\n",
       "\n",
       "    .dataframe thead th {\n",
       "        text-align: right;\n",
       "    }\n",
       "</style>\n",
       "<table border=\"1\" class=\"dataframe\">\n",
       "  <thead>\n",
       "    <tr style=\"text-align: right;\">\n",
       "      <th></th>\n",
       "      <th>min_req</th>\n",
       "      <th>prom_length</th>\n",
       "      <th>price</th>\n",
       "      <th>discount_pct</th>\n",
       "      <th>coupon_duration</th>\n",
       "      <th>featured</th>\n",
       "      <th>limited_supply</th>\n",
       "      <th>fb_likes</th>\n",
       "      <th>quantity_sold</th>\n",
       "      <th>revenue</th>\n",
       "      <th>ps</th>\n",
       "      <th>ps1</th>\n",
       "      <th>recency</th>\n",
       "      <th>ps2</th>\n",
       "      <th>matched</th>\n",
       "    </tr>\n",
       "    <tr>\n",
       "      <th>treatment</th>\n",
       "      <th></th>\n",
       "      <th></th>\n",
       "      <th></th>\n",
       "      <th></th>\n",
       "      <th></th>\n",
       "      <th></th>\n",
       "      <th></th>\n",
       "      <th></th>\n",
       "      <th></th>\n",
       "      <th></th>\n",
       "      <th></th>\n",
       "      <th></th>\n",
       "      <th></th>\n",
       "      <th></th>\n",
       "      <th></th>\n",
       "    </tr>\n",
       "  </thead>\n",
       "  <tbody>\n",
       "    <tr>\n",
       "      <th>0</th>\n",
       "      <td>1.00000</td>\n",
       "      <td>3.809717</td>\n",
       "      <td>37.870445</td>\n",
       "      <td>52.973684</td>\n",
       "      <td>95.941296</td>\n",
       "      <td>0.105263</td>\n",
       "      <td>0.852227</td>\n",
       "      <td>77.941296</td>\n",
       "      <td>333.002024</td>\n",
       "      <td>9720.987854</td>\n",
       "      <td>0.280741</td>\n",
       "      <td>0.004535</td>\n",
       "      <td>89.969636</td>\n",
       "      <td>0.062920</td>\n",
       "      <td>NaN</td>\n",
       "    </tr>\n",
       "    <tr>\n",
       "      <th>1</th>\n",
       "      <td>26.50463</td>\n",
       "      <td>3.379630</td>\n",
       "      <td>29.421296</td>\n",
       "      <td>53.263889</td>\n",
       "      <td>131.842593</td>\n",
       "      <td>0.143519</td>\n",
       "      <td>0.777778</td>\n",
       "      <td>113.203704</td>\n",
       "      <td>509.351852</td>\n",
       "      <td>12750.694444</td>\n",
       "      <td>0.357931</td>\n",
       "      <td>0.989627</td>\n",
       "      <td>253.273148</td>\n",
       "      <td>0.856101</td>\n",
       "      <td>472.372973</td>\n",
       "    </tr>\n",
       "  </tbody>\n",
       "</table>\n",
       "</div>"
      ],
      "text/plain": [
       "            min_req  prom_length      price  discount_pct  coupon_duration  \\\n",
       "treatment                                                                    \n",
       "0           1.00000     3.809717  37.870445     52.973684        95.941296   \n",
       "1          26.50463     3.379630  29.421296     53.263889       131.842593   \n",
       "\n",
       "           featured  limited_supply    fb_likes  quantity_sold       revenue  \\\n",
       "treatment                                                                      \n",
       "0          0.105263        0.852227   77.941296     333.002024   9720.987854   \n",
       "1          0.143519        0.777778  113.203704     509.351852  12750.694444   \n",
       "\n",
       "                 ps       ps1     recency       ps2     matched  \n",
       "treatment                                                        \n",
       "0          0.280741  0.004535   89.969636  0.062920         NaN  \n",
       "1          0.357931  0.989627  253.273148  0.856101  472.372973  "
      ]
     },
     "execution_count": 28,
     "metadata": {},
     "output_type": "execute_result"
    }
   ],
   "source": [
    "df.groupby('treatment').mean()"
   ]
  },
  {
   "cell_type": "code",
   "execution_count": null,
   "metadata": {},
   "outputs": [],
   "source": []
  },
  {
   "cell_type": "markdown",
   "metadata": {},
   "source": [
    "# Appendix"
   ]
  },
  {
   "cell_type": "markdown",
   "metadata": {},
   "source": [
    "https://harrywang.me/psm-did\n",
    "\n",
    "https://www.kaggle.com/code/harrywang/propensity-score-matching-in-python\n",
    "\n",
    "https://matheusfacure.github.io/python-causality-handbook/11-Propensity-Score.html"
   ]
  },
  {
   "cell_type": "code",
   "execution_count": null,
   "metadata": {},
   "outputs": [],
   "source": []
  }
 ],
 "metadata": {
  "kernelspec": {
   "display_name": "Python 3",
   "language": "python",
   "name": "python3"
  },
  "language_info": {
   "codemirror_mode": {
    "name": "ipython",
    "version": 3
   },
   "file_extension": ".py",
   "mimetype": "text/x-python",
   "name": "python",
   "nbconvert_exporter": "python",
   "pygments_lexer": "ipython3",
   "version": "3.7.6"
  }
 },
 "nbformat": 4,
 "nbformat_minor": 4
}
